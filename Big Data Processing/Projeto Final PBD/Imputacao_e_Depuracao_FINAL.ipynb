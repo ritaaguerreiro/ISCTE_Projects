{
 "cells": [
  {
   "cell_type": "markdown",
   "metadata": {},
   "source": [
    "# Notebook de importação e Depuração dos datasets"
   ]
  },
  {
   "cell_type": "markdown",
   "metadata": {},
   "source": [
    "#### Criação de um objeto spark"
   ]
  },
  {
   "cell_type": "code",
   "execution_count": null,
   "metadata": {},
   "outputs": [],
   "source": [
    "import findspark\n",
    "findspark.init()\n",
    "findspark.find()\n",
    "\n",
    "import pyspark\n",
    "from pyspark.sql import SparkSession\n",
    "from pyspark.sql.functions import col\n",
    "from pyspark.sql.functions import to_date\n",
    "from pyspark.sql.functions import round, dayofweek, when, avg\n",
    "import pyspark.sql.functions as F\n",
    "import matplotlib.pyplot as plt\n",
    "from collections import Counter\n",
    "from sklearn.cluster import KMeans\n",
    "\n",
    "\n",
    "# build our SparkSession\n",
    "\n",
    "spark = SparkSession\\\n",
    "        .builder\\\n",
    "        .appName(\"BigData\")\\\n",
    "        .config(\"spark.sql.shuffle.partitions\",6)\\\n",
    "        .config(\"spark.sql.repl.eagereval.enabled\",True)\\\n",
    "        .getOrCreate()"
   ]
  },
  {
   "cell_type": "code",
   "execution_count": 3,
   "metadata": {},
   "outputs": [
    {
     "data": {
      "text/html": [
       "\n",
       "            <div>\n",
       "                <p><b>SparkSession - in-memory</b></p>\n",
       "                \n",
       "        <div>\n",
       "            <p><b>SparkContext</b></p>\n",
       "\n",
       "            <p><a href=\"http://21d69ebbb64a:4041\">Spark UI</a></p>\n",
       "\n",
       "            <dl>\n",
       "              <dt>Version</dt>\n",
       "                <dd><code>v3.5.0</code></dd>\n",
       "              <dt>Master</dt>\n",
       "                <dd><code>local[*]</code></dd>\n",
       "              <dt>AppName</dt>\n",
       "                <dd><code>BigData</code></dd>\n",
       "            </dl>\n",
       "        </div>\n",
       "        \n",
       "            </div>\n",
       "        "
      ],
      "text/plain": [
       "<pyspark.sql.session.SparkSession at 0x7fd07c0f4b50>"
      ]
     },
     "execution_count": 3,
     "metadata": {},
     "output_type": "execute_result"
    }
   ],
   "source": [
    "spark"
   ]
  },
  {
   "cell_type": "markdown",
   "metadata": {},
   "source": [
    "#### Ler os datasets a usar"
   ]
  },
  {
   "cell_type": "code",
   "execution_count": 4,
   "metadata": {},
   "outputs": [
    {
     "name": "stdout",
     "output_type": "stream",
     "text": [
      "total 1568508\n",
      "drwxrwxrwx 1 root   root        4096 Jun 10 10:45 .\n",
      "drwxrwxrwx 1 root   root        4096 Jun  4 15:45 ..\n",
      "-rwxrwxrwx 1 root   root      130703 Jun  4 15:36 acorn_details.csv\n",
      "-rwxrwxrwx 1 root   root  1251594914 Jun  4 15:30 archive.zip\n",
      "drwxrwxrwx 1 root   root        4096 Jun  4 15:44 daily_dataset\n",
      "-rwxrwxrwx 1 root   root   351799634 Jun  4 15:36 daily_dataset.csv\n",
      "drwxr-xr-x 1 jovyan users       4096 Jun 10 10:46 energy_households_parquet.parquet\n",
      "drwxrwxrwx 1 root   root        4096 Jun  4 15:44 halfhourly_dataset\n",
      "drwxrwxrwx 1 root   root        4096 Jun  4 15:44 hhblock_dataset\n",
      "-rwxrwxrwx 1 root   root      234595 Jun  4 15:38 informations_households.csv\n",
      "-rwxrwxrwx 1 root   root         786 Jun  4 15:38 uk_bank_holidays.csv\n",
      "-rwxrwxrwx 1 root   root      341198 Jun  4 15:38 weather_daily_darksky.csv\n",
      "-rwxrwxrwx 1 root   root     2034495 Jun  4 15:38 weather_hourly_darksky.csv\n"
     ]
    }
   ],
   "source": [
    "! ls -la ../Datasets/"
   ]
  },
  {
   "cell_type": "code",
   "execution_count": 5,
   "metadata": {},
   "outputs": [],
   "source": [
    "# Diretório onde os arquivos estão localizados\n",
    "diretorio = \"../Datasets/\"\n",
    "\n",
    "# Leitura de todos os arquivos CSV no diretório\n",
    "df_households = spark.read.options(header='True', inferSchema='True').csv(diretorio + \"*informations_households\" + \"*.csv\")\n",
    "df_contagens = spark.read.options(header='True', inferSchema='True').csv(diretorio + \"*daily_dataset\" + \"*.csv\")\n"
   ]
  },
  {
   "cell_type": "markdown",
   "metadata": {},
   "source": [
    "#### Exploração e limpeza dos datasets"
   ]
  },
  {
   "cell_type": "markdown",
   "metadata": {},
   "source": [
    "##### Dataframe com a informação das casas"
   ]
  },
  {
   "cell_type": "code",
   "execution_count": 6,
   "metadata": {},
   "outputs": [
    {
     "name": "stdout",
     "output_type": "stream",
     "text": [
      "O DataFrame tem 5566 linhas e 5 colunas\n"
     ]
    }
   ],
   "source": [
    "num_linhas = df_households.count()\n",
    "num_colunas = len(df_households.columns)\n",
    "print(f\"O DataFrame tem {num_linhas} linhas e {num_colunas} colunas\")"
   ]
  },
  {
   "cell_type": "code",
   "execution_count": 7,
   "metadata": {},
   "outputs": [
    {
     "name": "stdout",
     "output_type": "stream",
     "text": [
      "+---------+--------+-------+-------------+-------+\n",
      "|    LCLid|stdorToU|  Acorn|Acorn_grouped|   file|\n",
      "+---------+--------+-------+-------------+-------+\n",
      "|MAC005492|     ToU| ACORN-|       ACORN-|block_0|\n",
      "|MAC001074|     ToU| ACORN-|       ACORN-|block_0|\n",
      "|MAC000002|     Std|ACORN-A|     Affluent|block_0|\n",
      "|MAC003613|     Std|ACORN-A|     Affluent|block_0|\n",
      "|MAC003597|     Std|ACORN-A|     Affluent|block_0|\n",
      "|MAC003579|     Std|ACORN-A|     Affluent|block_0|\n",
      "|MAC003566|     Std|ACORN-A|     Affluent|block_0|\n",
      "|MAC003557|     Std|ACORN-A|     Affluent|block_0|\n",
      "|MAC003553|     Std|ACORN-A|     Affluent|block_0|\n",
      "|MAC003482|     Std|ACORN-A|     Affluent|block_0|\n",
      "|MAC003463|     Std|ACORN-A|     Affluent|block_0|\n",
      "|MAC003449|     Std|ACORN-A|     Affluent|block_0|\n",
      "|MAC003428|     Std|ACORN-A|     Affluent|block_0|\n",
      "|MAC003423|     Std|ACORN-A|     Affluent|block_0|\n",
      "|MAC003422|     Std|ACORN-A|     Affluent|block_0|\n",
      "|MAC003400|     Std|ACORN-A|     Affluent|block_0|\n",
      "|MAC003394|     Std|ACORN-A|     Affluent|block_0|\n",
      "|MAC003388|     Std|ACORN-A|     Affluent|block_0|\n",
      "|MAC003348|     Std|ACORN-A|     Affluent|block_0|\n",
      "|MAC000246|     Std|ACORN-A|     Affluent|block_0|\n",
      "+---------+--------+-------+-------------+-------+\n",
      "only showing top 20 rows\n",
      "\n"
     ]
    }
   ],
   "source": [
    "# Visualização das primeiras 20 linhas do dataset com a informação relativa às casas\n",
    "df_households.show()"
   ]
  },
  {
   "cell_type": "code",
   "execution_count": 8,
   "metadata": {},
   "outputs": [
    {
     "name": "stdout",
     "output_type": "stream",
     "text": [
      "root\n",
      " |-- LCLid: string (nullable = true)\n",
      " |-- stdorToU: string (nullable = true)\n",
      " |-- Acorn: string (nullable = true)\n",
      " |-- Acorn_grouped: string (nullable = true)\n",
      " |-- file: string (nullable = true)\n",
      "\n"
     ]
    }
   ],
   "source": [
    "df_households.printSchema()"
   ]
  },
  {
   "cell_type": "markdown",
   "metadata": {},
   "source": [
    "##### Dataset com os registos das contagens energéticas"
   ]
  },
  {
   "cell_type": "code",
   "execution_count": 9,
   "metadata": {},
   "outputs": [
    {
     "name": "stdout",
     "output_type": "stream",
     "text": [
      "O DataFrame com or registos energéticos tem 3510433 linhas e 9 colunas\n"
     ]
    }
   ],
   "source": [
    "num_linhas = df_contagens.count()\n",
    "num_colunas = len(df_contagens.columns)\n",
    "print(f\"O DataFrame com os registos energéticos tem {num_linhas} linhas e {num_colunas} colunas\")"
   ]
  },
  {
   "cell_type": "code",
   "execution_count": 10,
   "metadata": {},
   "outputs": [
    {
     "name": "stdout",
     "output_type": "stream",
     "text": [
      "+---------+----------+-------------------+-------------------+------------------+------------+-------------------+------------------+-------------------+\n",
      "|    LCLid|       day|      energy_median|        energy_mean|        energy_max|energy_count|         energy_std|        energy_sum|         energy_min|\n",
      "+---------+----------+-------------------+-------------------+------------------+------------+-------------------+------------------+-------------------+\n",
      "|MAC000131|2011-12-15|              0.485|0.43204545454545457|             0.868|          22|0.23914579678767536|             9.505|0.07200000000000001|\n",
      "|MAC000131|2011-12-16|             0.1415|0.29616666875000003|         1.1160001|          48| 0.2814713178628203|14.216000100000002|              0.031|\n",
      "|MAC000131|2011-12-17|             0.1015|          0.1898125|             0.685|          48| 0.1884046862418033|             9.111|              0.064|\n",
      "|MAC000131|2011-12-18|              0.114| 0.2189791666666666|0.6759999999999999|          48|0.20291927853038208|10.510999999999996|              0.065|\n",
      "|MAC000131|2011-12-19|              0.191|0.32597916666666665|0.7879999999999999|          48| 0.2592049619947409|15.646999999999998|              0.066|\n",
      "|MAC000131|2011-12-20|0.21800000000000005|             0.3575|             1.077|          48|0.28759657027517305|             17.16|              0.066|\n",
      "|MAC000131|2011-12-21|             0.1305| 0.2350833333333333|             0.705|          48| 0.2220696491599295|            11.284|              0.066|\n",
      "|MAC000131|2011-12-22|0.08900000000000001|0.22135416666666666|             1.094|          48|0.26723887549908265|            10.625|              0.062|\n",
      "|MAC000131|2011-12-23|0.16049999999999998|           0.291125|0.7490000000000001|          48|0.24907604794434665|13.973999999999998|              0.065|\n",
      "|MAC000131|2011-12-24|              0.107|0.16899999999999998|             0.613|          47|0.15068466931050878|             7.943|              0.065|\n",
      "|MAC000131|2011-12-25|             0.2175|0.33918750000000003|             0.866|          48|0.26310119857478675|16.281000000000002|              0.069|\n",
      "|MAC000131|2011-12-26|0.14950000000000002| 0.2617083333333333|             0.838|          48| 0.2447927441503373|12.562000000000001|              0.066|\n",
      "|MAC000131|2011-12-27|0.14300000000000002| 0.2740000000000001|             0.778|          48|0.25212745847913703|13.152000000000005|              0.068|\n",
      "|MAC000131|2011-12-28|0.14550000000000002| 0.3005208333333333|             1.207|          48|0.29868028801773083|            14.425|              0.066|\n",
      "|MAC000131|2011-12-29|              0.152| 0.3070416666666667|             0.888|          48| 0.2644546341928976|            14.738|              0.066|\n",
      "|MAC000131|2011-12-30|              0.135|0.27685416666666673|             0.782|          48|  0.261185756802965|13.289000000000005|              0.064|\n",
      "|MAC000131|2011-12-31|             0.1515|0.32572916666666674|             1.252|          48| 0.3098882941898363|15.635000000000005|              0.066|\n",
      "|MAC000131|2012-01-01|              0.151|0.25602083333333336|             0.812|          48| 0.2252494116065079|            12.289|              0.068|\n",
      "|MAC000131|2012-01-02|              0.134| 0.2520833333333333|             0.851|          48|0.23721296951853504|              12.1|              0.068|\n",
      "|MAC000131|2012-01-03|0.14750000000000002|0.23550000000000004|             0.674|          48| 0.2099953393606427|11.304000000000002|              0.068|\n",
      "+---------+----------+-------------------+-------------------+------------------+------------+-------------------+------------------+-------------------+\n",
      "only showing top 20 rows\n",
      "\n"
     ]
    }
   ],
   "source": [
    "# Visualização das primeiras 20 linhas do dataset com os registos energéticos, relativos às casas\n",
    "df_contagens.show()"
   ]
  },
  {
   "cell_type": "code",
   "execution_count": 11,
   "metadata": {},
   "outputs": [
    {
     "name": "stdout",
     "output_type": "stream",
     "text": [
      "root\n",
      " |-- LCLid: string (nullable = true)\n",
      " |-- day: date (nullable = true)\n",
      " |-- energy_median: double (nullable = true)\n",
      " |-- energy_mean: double (nullable = true)\n",
      " |-- energy_max: double (nullable = true)\n",
      " |-- energy_count: integer (nullable = true)\n",
      " |-- energy_std: double (nullable = true)\n",
      " |-- energy_sum: double (nullable = true)\n",
      " |-- energy_min: double (nullable = true)\n",
      "\n"
     ]
    }
   ],
   "source": [
    "df_contagens.printSchema()"
   ]
  },
  {
   "cell_type": "code",
   "execution_count": 12,
   "metadata": {},
   "outputs": [
    {
     "name": "stdout",
     "output_type": "stream",
     "text": [
      "root\n",
      " |-- LCLid: string (nullable = true)\n",
      " |-- day: date (nullable = true)\n",
      " |-- energy_median: float (nullable = true)\n",
      " |-- energy_mean: float (nullable = true)\n",
      " |-- energy_max: float (nullable = true)\n",
      " |-- energy_count: float (nullable = true)\n",
      " |-- energy_std: float (nullable = true)\n",
      " |-- energy_sum: float (nullable = true)\n",
      " |-- energy_min: float (nullable = true)\n",
      "\n"
     ]
    },
    {
     "data": {
      "text/plain": [
       "3510433"
      ]
     },
     "execution_count": 12,
     "metadata": {},
     "output_type": "execute_result"
    }
   ],
   "source": [
    "# Ajustar o tipo de variáveis\n",
    "df_contagens = df_contagens.withColumn(\"day\", to_date(col(\"day\"), \"yyyy-MM-dd\"))\n",
    "df_contagens = df_contagens.withColumn(\"energy_median\", col(\"energy_median\").cast(\"float\"))\n",
    "df_contagens = df_contagens.withColumn(\"energy_mean\", col(\"energy_mean\").cast(\"float\"))\n",
    "df_contagens = df_contagens.withColumn(\"energy_max\", col(\"energy_max\").cast(\"float\"))\n",
    "df_contagens = df_contagens.withColumn(\"energy_count\", col(\"energy_count\").cast(\"float\"))\n",
    "df_contagens = df_contagens.withColumn(\"energy_std\", col(\"energy_std\").cast(\"float\"))\n",
    "df_contagens = df_contagens.withColumn(\"energy_sum\", col(\"energy_sum\").cast(\"float\"))\n",
    "df_contagens = df_contagens.withColumn(\"energy_min\", col(\"energy_min\").cast(\"float\"))\n",
    "\n",
    "df_contagens.printSchema()\n",
    "df_contagens.count()\n"
   ]
  },
  {
   "cell_type": "code",
   "execution_count": 13,
   "metadata": {},
   "outputs": [],
   "source": [
    "# Ajustar as casas decimais das colunas numéricas\n",
    "colunas_para_arredondar = [\"energy_median\", \"energy_mean\", \"energy_max\", \"energy_count\",\n",
    "                            \"energy_std\", \"energy_sum\", \"energy_min\"]\n",
    "\n",
    "for coluna in colunas_para_arredondar:\n",
    "    df_contagens = df_contagens.withColumn(coluna, round(df_contagens[coluna], 3))"
   ]
  },
  {
   "cell_type": "code",
   "execution_count": 14,
   "metadata": {},
   "outputs": [
    {
     "name": "stdout",
     "output_type": "stream",
     "text": [
      "No dataset df_households:\n",
      "A coluna LCLid tem 0 valores nulos\n",
      "A coluna stdorToU tem 0 valores nulos\n",
      "A coluna Acorn tem 0 valores nulos\n",
      "A coluna Acorn_grouped tem 0 valores nulos\n",
      "A coluna file tem 0 valores nulos\n",
      "\n",
      "\n",
      "No dataset df_contagens\n",
      "A coluna LCLid tem 0 valores nulos\n",
      "A coluna day tem 0 valores nulos\n",
      "A coluna energy_median tem 30 valores nulos\n",
      "A coluna energy_mean tem 30 valores nulos\n",
      "A coluna energy_max tem 30 valores nulos\n",
      "A coluna energy_count tem 0 valores nulos\n",
      "A coluna energy_std tem 11331 valores nulos\n",
      "A coluna energy_sum tem 30 valores nulos\n",
      "A coluna energy_min tem 30 valores nulos\n"
     ]
    }
   ],
   "source": [
    "# Verificação dos valores omissos no dois datasets\n",
    "print(\"No dataset df_households:\")\n",
    "for column in df_households.columns:\n",
    "    null_count = df_households.filter(col(column).isNull()).count()\n",
    "    print(f\"A coluna {column} tem {null_count} valores nulos\")\n",
    "\n",
    "print(\"\\n\")\n",
    "print(\"No dataset df_contagens\")\n",
    "for column in df_contagens.columns:\n",
    "    null_count = df_contagens.filter(col(column).isNull()).count()\n",
    "    print(f\"A coluna {column} tem {null_count} valores nulos\")"
   ]
  },
  {
   "cell_type": "code",
   "execution_count": 15,
   "metadata": {},
   "outputs": [
    {
     "data": {
      "text/plain": [
       "3499102"
      ]
     },
     "execution_count": 15,
     "metadata": {},
     "output_type": "execute_result"
    }
   ],
   "source": [
    "# Eliminar as linhas com valores omissos \n",
    "df_contagens = df_contagens.dropna()\n",
    "df_contagens.count()"
   ]
  },
  {
   "cell_type": "code",
   "execution_count": 16,
   "metadata": {},
   "outputs": [
    {
     "name": "stdout",
     "output_type": "stream",
     "text": [
      "5566\n",
      "3499102\n"
     ]
    }
   ],
   "source": [
    "# Eliminar linhas duplicadas\n",
    "print(df_households.dropDuplicates().count())\n",
    "print(df_contagens.dropDuplicates().count())\n",
    "\n",
    "#Não havia linhas duplicadas"
   ]
  },
  {
   "cell_type": "markdown",
   "metadata": {},
   "source": [
    "#### Juntar os dois datasets"
   ]
  },
  {
   "cell_type": "code",
   "execution_count": 17,
   "metadata": {},
   "outputs": [
    {
     "name": "stdout",
     "output_type": "stream",
     "text": [
      "+---------+----------+-------------+-----------+----------+------------+----------+----------+----------+--------+-------+-------------+\n",
      "|    LCLid|       day|energy_median|energy_mean|energy_max|energy_count|energy_std|energy_sum|energy_min|stdorToU|  Acorn|Acorn_grouped|\n",
      "+---------+----------+-------------+-----------+----------+------------+----------+----------+----------+--------+-------+-------------+\n",
      "|MAC000131|2011-12-15|        0.485|      0.432|     0.868|        22.0|     0.239|     9.505|     0.072|     Std|ACORN-E|     Affluent|\n",
      "|MAC000131|2011-12-16|        0.141|      0.296|     1.116|        48.0|     0.281|    14.216|     0.031|     Std|ACORN-E|     Affluent|\n",
      "|MAC000131|2011-12-17|        0.101|       0.19|     0.685|        48.0|     0.188|     9.111|     0.064|     Std|ACORN-E|     Affluent|\n",
      "|MAC000131|2011-12-18|        0.114|      0.219|     0.676|        48.0|     0.203|    10.511|     0.065|     Std|ACORN-E|     Affluent|\n",
      "|MAC000131|2011-12-19|        0.191|      0.326|     0.788|        48.0|     0.259|    15.647|     0.066|     Std|ACORN-E|     Affluent|\n",
      "|MAC000131|2011-12-20|        0.218|      0.357|     1.077|        48.0|     0.288|     17.16|     0.066|     Std|ACORN-E|     Affluent|\n",
      "|MAC000131|2011-12-21|        0.131|      0.235|     0.705|        48.0|     0.222|    11.284|     0.066|     Std|ACORN-E|     Affluent|\n",
      "|MAC000131|2011-12-22|        0.089|      0.221|     1.094|        48.0|     0.267|    10.625|     0.062|     Std|ACORN-E|     Affluent|\n",
      "|MAC000131|2011-12-23|        0.161|      0.291|     0.749|        48.0|     0.249|    13.974|     0.065|     Std|ACORN-E|     Affluent|\n",
      "|MAC000131|2011-12-24|        0.107|      0.169|     0.613|        47.0|     0.151|     7.943|     0.065|     Std|ACORN-E|     Affluent|\n",
      "|MAC000131|2011-12-25|        0.218|      0.339|     0.866|        48.0|     0.263|    16.281|     0.069|     Std|ACORN-E|     Affluent|\n",
      "|MAC000131|2011-12-26|        0.149|      0.262|     0.838|        48.0|     0.245|    12.562|     0.066|     Std|ACORN-E|     Affluent|\n",
      "|MAC000131|2011-12-27|        0.143|      0.274|     0.778|        48.0|     0.252|    13.152|     0.068|     Std|ACORN-E|     Affluent|\n",
      "|MAC000131|2011-12-28|        0.146|      0.301|     1.207|        48.0|     0.299|    14.425|     0.066|     Std|ACORN-E|     Affluent|\n",
      "|MAC000131|2011-12-29|        0.152|      0.307|     0.888|        48.0|     0.264|    14.738|     0.066|     Std|ACORN-E|     Affluent|\n",
      "|MAC000131|2011-12-30|        0.135|      0.277|     0.782|        48.0|     0.261|    13.289|     0.064|     Std|ACORN-E|     Affluent|\n",
      "|MAC000131|2011-12-31|        0.152|      0.326|     1.252|        48.0|      0.31|    15.635|     0.066|     Std|ACORN-E|     Affluent|\n",
      "|MAC000131|2012-01-01|        0.151|      0.256|     0.812|        48.0|     0.225|    12.289|     0.068|     Std|ACORN-E|     Affluent|\n",
      "|MAC000131|2012-01-02|        0.134|      0.252|     0.851|        48.0|     0.237|      12.1|     0.068|     Std|ACORN-E|     Affluent|\n",
      "|MAC000131|2012-01-03|        0.147|      0.235|     0.674|        48.0|      0.21|    11.304|     0.068|     Std|ACORN-E|     Affluent|\n",
      "+---------+----------+-------------+-----------+----------+------------+----------+----------+----------+--------+-------+-------------+\n",
      "only showing top 20 rows\n",
      "\n"
     ]
    },
    {
     "data": {
      "text/plain": [
       "3499102"
      ]
     },
     "execution_count": 17,
     "metadata": {},
     "output_type": "execute_result"
    }
   ],
   "source": [
    "combined_datasets = df_contagens.join(df_households, df_contagens[\"LCLid\"] == df_households[\"LCLid\"], \"left\")\n",
    "\n",
    "#Selecionar apenas as colunas relevantes\n",
    "combined_datasets = combined_datasets.select(df_contagens[\"LCLid\"], df_contagens[\"day\"], df_contagens[\"energy_median\"],\n",
    "                                             df_contagens[\"energy_mean\"],df_contagens[\"energy_max\"], \n",
    "                                             df_contagens[\"energy_count\"], df_contagens[\"energy_std\"], \n",
    "                                             df_contagens[\"energy_sum\"], df_contagens[\"energy_min\"],\n",
    "                                             df_households[\"stdorToU\"], df_households[\"Acorn\"], \n",
    "                                             df_households[\"Acorn_grouped\"])\n",
    "\n",
    "\n",
    "combined_datasets.show()\n",
    "combined_datasets.count()"
   ]
  },
  {
   "cell_type": "markdown",
   "metadata": {},
   "source": [
    "## Mudar os nomes das variáveis para nomes mais representativos:"
   ]
  },
  {
   "cell_type": "markdown",
   "metadata": {},
   "source": [
    "### Observação dos valores únicos"
   ]
  },
  {
   "cell_type": "code",
   "execution_count": null,
   "metadata": {},
   "outputs": [
    {
     "name": "stdout",
     "output_type": "stream",
     "text": [
      "+-------+\n",
      "|Acorn  |\n",
      "+-------+\n",
      "|ACORN- |\n",
      "|ACORN-A|\n",
      "|ACORN-B|\n",
      "|ACORN-C|\n",
      "|ACORN-D|\n",
      "|ACORN-E|\n",
      "|ACORN-F|\n",
      "|ACORN-G|\n",
      "|ACORN-H|\n",
      "|ACORN-I|\n",
      "|ACORN-J|\n",
      "|ACORN-K|\n",
      "|ACORN-L|\n",
      "|ACORN-M|\n",
      "|ACORN-N|\n",
      "|ACORN-O|\n",
      "|ACORN-P|\n",
      "|ACORN-Q|\n",
      "|ACORN-U|\n",
      "+-------+\n",
      "\n"
     ]
    },
    {
     "data": {
      "text/plain": [
       "19"
      ]
     },
     "execution_count": 18,
     "metadata": {},
     "output_type": "execute_result"
    }
   ],
   "source": [
    "# Selecionar as colunas acorn \n",
    "combined_datasets.select(\"Acorn\").distinct().orderBy(\"Acorn\", ascending=True).show(truncate=False)\n",
    "combined_datasets.select(\"Acorn\").distinct().count()"
   ]
  },
  {
   "cell_type": "code",
   "execution_count": 19,
   "metadata": {},
   "outputs": [
    {
     "name": "stdout",
     "output_type": "stream",
     "text": [
      "+-------------+\n",
      "|Acorn_grouped|\n",
      "+-------------+\n",
      "|ACORN-       |\n",
      "|Affluent     |\n",
      "|Comfortable  |\n",
      "|Adversity    |\n",
      "|ACORN-U      |\n",
      "+-------------+\n",
      "\n"
     ]
    },
    {
     "data": {
      "text/plain": [
       "5"
      ]
     },
     "execution_count": 19,
     "metadata": {},
     "output_type": "execute_result"
    }
   ],
   "source": [
    "# Selecionar os tipos de Acorn_grouped\n",
    "combined_datasets.select(\"Acorn_grouped\").distinct().orderBy(\"Acorn\", ascending=True).show(truncate=False)\n",
    "combined_datasets.select(\"Acorn_grouped\").distinct().count()"
   ]
  },
  {
   "cell_type": "code",
   "execution_count": 20,
   "metadata": {},
   "outputs": [
    {
     "name": "stdout",
     "output_type": "stream",
     "text": [
      "+-------+-------------+\n",
      "|Acorn  |Acorn_grouped|\n",
      "+-------+-------------+\n",
      "|ACORN- |ACORN-       |\n",
      "|ACORN-A|Affluent     |\n",
      "|ACORN-B|Affluent     |\n",
      "|ACORN-C|Affluent     |\n",
      "|ACORN-D|Affluent     |\n",
      "|ACORN-E|Affluent     |\n",
      "|ACORN-F|Comfortable  |\n",
      "|ACORN-G|Comfortable  |\n",
      "|ACORN-H|Comfortable  |\n",
      "|ACORN-I|Comfortable  |\n",
      "|ACORN-J|Comfortable  |\n",
      "|ACORN-K|Adversity    |\n",
      "|ACORN-L|Adversity    |\n",
      "|ACORN-M|Adversity    |\n",
      "|ACORN-N|Adversity    |\n",
      "|ACORN-O|Adversity    |\n",
      "|ACORN-P|Adversity    |\n",
      "|ACORN-Q|Adversity    |\n",
      "|ACORN-U|ACORN-U      |\n",
      "+-------+-------------+\n",
      "\n"
     ]
    }
   ],
   "source": [
    "# Observar os tipos de acorn_group por tipo de Acorn\n",
    "combined_datasets.select(\"Acorn\",\"Acorn_grouped\").distinct().orderBy(\"Acorn\", ascending=True).show(truncate=False)"
   ]
  },
  {
   "cell_type": "markdown",
   "metadata": {},
   "source": [
    "Após a observação dos valores únicos de cada coluna Acorn, concluímos que os Acorn referem-se a tipos específicos de consumo, os acorn groups, classificados de acordo com os valores definidos oficialmente (?).\n",
    "Assim, preferimos manter esta variável e eliminar os cluster mais gerais, e fazer nós próprios a clusterização.\n",
    "O nome da variável acorn vai, então, ser atualizado de acordo. Passará a ser \"acorn_groups\"."
   ]
  },
  {
   "cell_type": "markdown",
   "metadata": {},
   "source": [
    "#### Alteração dos nomes das variáveis para nomes mais representativos"
   ]
  },
  {
   "cell_type": "code",
   "execution_count": 21,
   "metadata": {},
   "outputs": [],
   "source": [
    "df_variables_renamed = combined_datasets.withColumnRenamed('LCLid', 'household_id')\\\n",
    "       .withColumnRenamed('day', 'date')\\\n",
    "       .withColumnRenamed('stdorToU', 'tax_type')\\\n",
    "       .withColumnRenamed('Acorn', 'acorn_groups')\\\n",
    "       .withColumnRenamed('Acorn_grouped', 'status')"
   ]
  },
  {
   "cell_type": "code",
   "execution_count": 22,
   "metadata": {},
   "outputs": [
    {
     "name": "stdout",
     "output_type": "stream",
     "text": [
      "+------------+----------+-------------+-----------+----------+------------+----------+----------+----------+--------+------------+--------+\n",
      "|household_id|      date|energy_median|energy_mean|energy_max|energy_count|energy_std|energy_sum|energy_min|tax_type|acorn_groups|  status|\n",
      "+------------+----------+-------------+-----------+----------+------------+----------+----------+----------+--------+------------+--------+\n",
      "|   MAC000131|2011-12-15|        0.485|      0.432|     0.868|        22.0|     0.239|     9.505|     0.072|     Std|     ACORN-E|Affluent|\n",
      "|   MAC000131|2011-12-16|        0.141|      0.296|     1.116|        48.0|     0.281|    14.216|     0.031|     Std|     ACORN-E|Affluent|\n",
      "|   MAC000131|2011-12-17|        0.101|       0.19|     0.685|        48.0|     0.188|     9.111|     0.064|     Std|     ACORN-E|Affluent|\n",
      "|   MAC000131|2011-12-18|        0.114|      0.219|     0.676|        48.0|     0.203|    10.511|     0.065|     Std|     ACORN-E|Affluent|\n",
      "|   MAC000131|2011-12-19|        0.191|      0.326|     0.788|        48.0|     0.259|    15.647|     0.066|     Std|     ACORN-E|Affluent|\n",
      "|   MAC000131|2011-12-20|        0.218|      0.357|     1.077|        48.0|     0.288|     17.16|     0.066|     Std|     ACORN-E|Affluent|\n",
      "|   MAC000131|2011-12-21|        0.131|      0.235|     0.705|        48.0|     0.222|    11.284|     0.066|     Std|     ACORN-E|Affluent|\n",
      "|   MAC000131|2011-12-22|        0.089|      0.221|     1.094|        48.0|     0.267|    10.625|     0.062|     Std|     ACORN-E|Affluent|\n",
      "|   MAC000131|2011-12-23|        0.161|      0.291|     0.749|        48.0|     0.249|    13.974|     0.065|     Std|     ACORN-E|Affluent|\n",
      "|   MAC000131|2011-12-24|        0.107|      0.169|     0.613|        47.0|     0.151|     7.943|     0.065|     Std|     ACORN-E|Affluent|\n",
      "|   MAC000131|2011-12-25|        0.218|      0.339|     0.866|        48.0|     0.263|    16.281|     0.069|     Std|     ACORN-E|Affluent|\n",
      "|   MAC000131|2011-12-26|        0.149|      0.262|     0.838|        48.0|     0.245|    12.562|     0.066|     Std|     ACORN-E|Affluent|\n",
      "|   MAC000131|2011-12-27|        0.143|      0.274|     0.778|        48.0|     0.252|    13.152|     0.068|     Std|     ACORN-E|Affluent|\n",
      "|   MAC000131|2011-12-28|        0.146|      0.301|     1.207|        48.0|     0.299|    14.425|     0.066|     Std|     ACORN-E|Affluent|\n",
      "|   MAC000131|2011-12-29|        0.152|      0.307|     0.888|        48.0|     0.264|    14.738|     0.066|     Std|     ACORN-E|Affluent|\n",
      "|   MAC000131|2011-12-30|        0.135|      0.277|     0.782|        48.0|     0.261|    13.289|     0.064|     Std|     ACORN-E|Affluent|\n",
      "|   MAC000131|2011-12-31|        0.152|      0.326|     1.252|        48.0|      0.31|    15.635|     0.066|     Std|     ACORN-E|Affluent|\n",
      "|   MAC000131|2012-01-01|        0.151|      0.256|     0.812|        48.0|     0.225|    12.289|     0.068|     Std|     ACORN-E|Affluent|\n",
      "|   MAC000131|2012-01-02|        0.134|      0.252|     0.851|        48.0|     0.237|      12.1|     0.068|     Std|     ACORN-E|Affluent|\n",
      "|   MAC000131|2012-01-03|        0.147|      0.235|     0.674|        48.0|      0.21|    11.304|     0.068|     Std|     ACORN-E|Affluent|\n",
      "+------------+----------+-------------+-----------+----------+------------+----------+----------+----------+--------+------------+--------+\n",
      "only showing top 20 rows\n",
      "\n"
     ]
    }
   ],
   "source": [
    "df_variables_renamed.show()"
   ]
  },
  {
   "cell_type": "code",
   "execution_count": 23,
   "metadata": {},
   "outputs": [],
   "source": [
    "# Separar a variável \"date\" em dias, meses, anos, dias da semana e semanas do ano\n",
    "df_new_cols = ( df_variables_renamed\n",
    "                .withColumn(\"date_YEAR\", F.year(\"date\"))\n",
    "                .withColumn(\"date_MONTH\", F.month(\"date\"))\n",
    "                .withColumn(\"date_DAY_OF_WEEK\", F.dayofweek(\"date\"))\n",
    "                .withColumn(\"date_WEEK_OF_YEAR\",F.weekofyear(\"date\"))\n",
    "                )"
   ]
  },
  {
   "cell_type": "code",
   "execution_count": 24,
   "metadata": {},
   "outputs": [
    {
     "name": "stdout",
     "output_type": "stream",
     "text": [
      "+------------+----------+-------------+-----------+----------+------------+----------+----------+----------+--------+------------+--------+---------+----------+----------------+-----------------+\n",
      "|household_id|      date|energy_median|energy_mean|energy_max|energy_count|energy_std|energy_sum|energy_min|tax_type|acorn_groups|  status|date_YEAR|date_MONTH|date_DAY_OF_WEEK|date_WEEK_OF_YEAR|\n",
      "+------------+----------+-------------+-----------+----------+------------+----------+----------+----------+--------+------------+--------+---------+----------+----------------+-----------------+\n",
      "|   MAC000131|2011-12-15|        0.485|      0.432|     0.868|        22.0|     0.239|     9.505|     0.072|     Std|     ACORN-E|Affluent|     2011|        12|               5|               50|\n",
      "|   MAC000131|2011-12-16|        0.141|      0.296|     1.116|        48.0|     0.281|    14.216|     0.031|     Std|     ACORN-E|Affluent|     2011|        12|               6|               50|\n",
      "|   MAC000131|2011-12-17|        0.101|       0.19|     0.685|        48.0|     0.188|     9.111|     0.064|     Std|     ACORN-E|Affluent|     2011|        12|               7|               50|\n",
      "|   MAC000131|2011-12-18|        0.114|      0.219|     0.676|        48.0|     0.203|    10.511|     0.065|     Std|     ACORN-E|Affluent|     2011|        12|               1|               50|\n",
      "|   MAC000131|2011-12-19|        0.191|      0.326|     0.788|        48.0|     0.259|    15.647|     0.066|     Std|     ACORN-E|Affluent|     2011|        12|               2|               51|\n",
      "+------------+----------+-------------+-----------+----------+------------+----------+----------+----------+--------+------------+--------+---------+----------+----------------+-----------------+\n",
      "only showing top 5 rows\n",
      "\n"
     ]
    }
   ],
   "source": [
    "df_new_cols.show(5)"
   ]
  },
  {
   "cell_type": "markdown",
   "metadata": {},
   "source": [
    "Tratamento da ACORN- (ACORN não identificado)"
   ]
  },
  {
   "cell_type": "code",
   "execution_count": 25,
   "metadata": {},
   "outputs": [
    {
     "name": "stdout",
     "output_type": "stream",
     "text": [
      "O número de elementos igual a 'ACORN-' é: 777\n",
      "A percentagem de valores ACORN-, face ao número de linhas da base de dados é 0.22205697347490871 %\n"
     ]
    }
   ],
   "source": [
    "# Filtrar as linhas onde a coluna acorn_groups é igual a 'Acorn-'\n",
    "acorn_count = df_new_cols.filter(df_new_cols.acorn_groups == 'ACORN-').count()\n",
    "\n",
    "print(f\"O número de elementos igual a 'ACORN-' é: {acorn_count}\")\n",
    "\n",
    "percentagem = 777*100/df_new_cols.count()\n",
    "\n",
    "print('A percentagem de valores ACORN-, face ao número de linhas da base de dados é', percentagem, '%')"
   ]
  },
  {
   "cell_type": "markdown",
   "metadata": {},
   "source": [
    "Visto a quantidade de valores ACORN- ser bastante reduzida em comparação com a quantidade de valores da base de dados, decidimos eliminar a variável."
   ]
  },
  {
   "cell_type": "code",
   "execution_count": 26,
   "metadata": {},
   "outputs": [
    {
     "name": "stdout",
     "output_type": "stream",
     "text": [
      "+------------+----------+-------------+-----------+----------+------------+----------+----------+----------+--------+------------+--------+---------+----------+----------------+-----------------+\n",
      "|household_id|      date|energy_median|energy_mean|energy_max|energy_count|energy_std|energy_sum|energy_min|tax_type|acorn_groups|  status|date_YEAR|date_MONTH|date_DAY_OF_WEEK|date_WEEK_OF_YEAR|\n",
      "+------------+----------+-------------+-----------+----------+------------+----------+----------+----------+--------+------------+--------+---------+----------+----------------+-----------------+\n",
      "|   MAC000131|2011-12-15|        0.485|      0.432|     0.868|        22.0|     0.239|     9.505|     0.072|     Std|     ACORN-E|Affluent|     2011|        12|               5|               50|\n",
      "|   MAC000131|2011-12-16|        0.141|      0.296|     1.116|        48.0|     0.281|    14.216|     0.031|     Std|     ACORN-E|Affluent|     2011|        12|               6|               50|\n",
      "|   MAC000131|2011-12-17|        0.101|       0.19|     0.685|        48.0|     0.188|     9.111|     0.064|     Std|     ACORN-E|Affluent|     2011|        12|               7|               50|\n",
      "|   MAC000131|2011-12-18|        0.114|      0.219|     0.676|        48.0|     0.203|    10.511|     0.065|     Std|     ACORN-E|Affluent|     2011|        12|               1|               50|\n",
      "|   MAC000131|2011-12-19|        0.191|      0.326|     0.788|        48.0|     0.259|    15.647|     0.066|     Std|     ACORN-E|Affluent|     2011|        12|               2|               51|\n",
      "|   MAC000131|2011-12-20|        0.218|      0.357|     1.077|        48.0|     0.288|     17.16|     0.066|     Std|     ACORN-E|Affluent|     2011|        12|               3|               51|\n",
      "|   MAC000131|2011-12-21|        0.131|      0.235|     0.705|        48.0|     0.222|    11.284|     0.066|     Std|     ACORN-E|Affluent|     2011|        12|               4|               51|\n",
      "|   MAC000131|2011-12-22|        0.089|      0.221|     1.094|        48.0|     0.267|    10.625|     0.062|     Std|     ACORN-E|Affluent|     2011|        12|               5|               51|\n",
      "|   MAC000131|2011-12-23|        0.161|      0.291|     0.749|        48.0|     0.249|    13.974|     0.065|     Std|     ACORN-E|Affluent|     2011|        12|               6|               51|\n",
      "|   MAC000131|2011-12-24|        0.107|      0.169|     0.613|        47.0|     0.151|     7.943|     0.065|     Std|     ACORN-E|Affluent|     2011|        12|               7|               51|\n",
      "|   MAC000131|2011-12-25|        0.218|      0.339|     0.866|        48.0|     0.263|    16.281|     0.069|     Std|     ACORN-E|Affluent|     2011|        12|               1|               51|\n",
      "|   MAC000131|2011-12-26|        0.149|      0.262|     0.838|        48.0|     0.245|    12.562|     0.066|     Std|     ACORN-E|Affluent|     2011|        12|               2|               52|\n",
      "|   MAC000131|2011-12-27|        0.143|      0.274|     0.778|        48.0|     0.252|    13.152|     0.068|     Std|     ACORN-E|Affluent|     2011|        12|               3|               52|\n",
      "|   MAC000131|2011-12-28|        0.146|      0.301|     1.207|        48.0|     0.299|    14.425|     0.066|     Std|     ACORN-E|Affluent|     2011|        12|               4|               52|\n",
      "|   MAC000131|2011-12-29|        0.152|      0.307|     0.888|        48.0|     0.264|    14.738|     0.066|     Std|     ACORN-E|Affluent|     2011|        12|               5|               52|\n",
      "|   MAC000131|2011-12-30|        0.135|      0.277|     0.782|        48.0|     0.261|    13.289|     0.064|     Std|     ACORN-E|Affluent|     2011|        12|               6|               52|\n",
      "|   MAC000131|2011-12-31|        0.152|      0.326|     1.252|        48.0|      0.31|    15.635|     0.066|     Std|     ACORN-E|Affluent|     2011|        12|               7|               52|\n",
      "|   MAC000131|2012-01-01|        0.151|      0.256|     0.812|        48.0|     0.225|    12.289|     0.068|     Std|     ACORN-E|Affluent|     2012|         1|               1|               52|\n",
      "|   MAC000131|2012-01-02|        0.134|      0.252|     0.851|        48.0|     0.237|      12.1|     0.068|     Std|     ACORN-E|Affluent|     2012|         1|               2|                1|\n",
      "|   MAC000131|2012-01-03|        0.147|      0.235|     0.674|        48.0|      0.21|    11.304|     0.068|     Std|     ACORN-E|Affluent|     2012|         1|               3|                1|\n",
      "+------------+----------+-------------+-----------+----------+------------+----------+----------+----------+--------+------------+--------+---------+----------+----------------+-----------------+\n",
      "only showing top 20 rows\n",
      "\n"
     ]
    }
   ],
   "source": [
    "df_new_cols.filter(df_new_cols.acorn_groups == 'Acorn-')\n",
    "no_acornTBD_df = df_new_cols.filter( df_new_cols.acorn_groups != 'ACORN-' )\n",
    "\n",
    "no_acornTBD_df.show()"
   ]
  },
  {
   "cell_type": "code",
   "execution_count": 27,
   "metadata": {},
   "outputs": [
    {
     "name": "stdout",
     "output_type": "stream",
     "text": [
      "+------------+\n",
      "|acorn_groups|\n",
      "+------------+\n",
      "|ACORN-A     |\n",
      "|ACORN-B     |\n",
      "|ACORN-C     |\n",
      "|ACORN-D     |\n",
      "|ACORN-E     |\n",
      "|ACORN-F     |\n",
      "|ACORN-G     |\n",
      "|ACORN-H     |\n",
      "|ACORN-I     |\n",
      "|ACORN-J     |\n",
      "|ACORN-K     |\n",
      "|ACORN-L     |\n",
      "|ACORN-M     |\n",
      "|ACORN-N     |\n",
      "|ACORN-O     |\n",
      "|ACORN-P     |\n",
      "|ACORN-Q     |\n",
      "|ACORN-U     |\n",
      "+------------+\n",
      "\n"
     ]
    }
   ],
   "source": [
    "#Visualização do resultado:\n",
    "\n",
    "no_acornTBD_df.select(\"acorn_groups\").distinct().orderBy(\"acorn_groups\",ascending=True).show(truncate=False)\n"
   ]
  },
  {
   "cell_type": "markdown",
   "metadata": {},
   "source": [
    "#### Criação de dummies"
   ]
  },
  {
   "cell_type": "code",
   "execution_count": 28,
   "metadata": {},
   "outputs": [],
   "source": [
    "dummie_df = no_acornTBD_df"
   ]
  },
  {
   "cell_type": "markdown",
   "metadata": {},
   "source": [
    "##### Criação de uma coluna dummie que identifique se é fim de semana (1) ou não (0)"
   ]
  },
  {
   "cell_type": "code",
   "execution_count": 29,
   "metadata": {},
   "outputs": [],
   "source": [
    "# Agregar por mês para obter o consumo médio\n",
    "dummie_df_cunsumo_medio = dummie_df.groupBy('date_MONTH').agg(\n",
    "    avg(\"energy_max\").alias(\"avg_energy_max\"),\n",
    "    avg(\"energy_mean\").alias(\"avg_energy_mean\")\n",
    ").orderBy('date_MONTH')\n",
    "dummie_df_pandas = dummie_df_cunsumo_medio.toPandas()"
   ]
  },
  {
   "cell_type": "code",
   "execution_count": 30,
   "metadata": {},
   "outputs": [
    {
     "data": {
      "image/png": "[encoded data removed]",
      "text/plain": [
       "<Figure size 1200x600 with 1 Axes>"
      ]
     },
     "metadata": {},
     "output_type": "display_data"
    }
   ],
   "source": [
    "# Criação dum gráfico simples para visualizar padrões\n",
    "plt.figure(figsize=(12, 6))\n",
    "plt.plot(dummie_df_pandas['date_MONTH'], dummie_df_pandas['avg_energy_max'], label='Média do Consumo Máximo', marker='o')\n",
    "plt.plot(dummie_df_pandas['date_MONTH'], dummie_df_pandas['avg_energy_mean'], label='Média do Consumo Médio', marker='o')\n",
    "plt.title('Média Mensal de Consumo de Energia')\n",
    "plt.xlabel('Mês')\n",
    "plt.ylabel('Consumo de Energia (KWh)')\n",
    "plt.xticks(range(1, 13), labels=['Jan', 'Fev', 'Mar', 'Abr', 'Mai', 'Jun', 'Jul', 'Ago', 'Set', 'Out', 'Nov', 'Dez'])\n",
    "plt.legend()\n",
    "plt.grid(True)\n",
    "plt.show()"
   ]
  },
  {
   "cell_type": "code",
   "execution_count": 31,
   "metadata": {},
   "outputs": [
    {
     "name": "stdout",
     "output_type": "stream",
     "text": [
      "Correlação entre Consumo Máximo e Médio: 0.9868636562520278\n"
     ]
    }
   ],
   "source": [
    "#Calcular e observar a correlação\n",
    "correlation = dummie_df_pandas['avg_energy_max'].corr(dummie_df_pandas['avg_energy_mean'])\n",
    "print(\"Correlação entre Consumo Máximo e Médio:\", correlation)"
   ]
  },
  {
   "cell_type": "code",
   "execution_count": 32,
   "metadata": {},
   "outputs": [
    {
     "name": "stdout",
     "output_type": "stream",
     "text": [
      "ADF Statistic for max energy: -1.572364001974744\n",
      "p-value for max energy: 0.4974593916153193\n",
      "ADF Statistic for mean energy: -4.129178719547443\n",
      "p-value for mean energy: 0.0008663817232768774\n"
     ]
    }
   ],
   "source": [
    "#Calcular médias para comparação\n",
    "from statsmodels.tsa.stattools import adfuller\n",
    "\n",
    "#Teste Dickey-Fuller aumentado para verificar estacionalidade\n",
    "adf_test_max = adfuller(dummie_df_pandas['avg_energy_max'])\n",
    "adf_test_mean = adfuller(dummie_df_pandas['avg_energy_mean'])\n",
    "\n",
    "print('ADF Statistic for max energy:', adf_test_max[0])\n",
    "print('p-value for max energy:', adf_test_max[1])\n",
    "print('ADF Statistic for mean energy:', adf_test_mean[0])\n",
    "print('p-value for mean energy:', adf_test_mean[1])"
   ]
  },
  {
   "cell_type": "code",
   "execution_count": 33,
   "metadata": {},
   "outputs": [
    {
     "data": {
      "image/png": "[encoded data removed]",
      "text/plain": [
       "<Figure size 640x480 with 1 Axes>"
      ]
     },
     "metadata": {},
     "output_type": "display_data"
    }
   ],
   "source": [
    "#Aplicar K-Means para agrupar meses\n",
    "kmeans = KMeans(n_clusters=2, random_state=0).fit(dummie_df_pandas[['avg_energy_max', 'avg_energy_mean']])\n",
    "dummie_df_pandas['cluster'] = kmeans.labels_\n",
    "\n",
    "#Visualizando os clusters\n",
    "plt.scatter(dummie_df_pandas['date_MONTH'], dummie_df_pandas['avg_energy_max'], c=dummie_df_pandas['cluster'])\n",
    "plt.title('Clusterização de Consumo de Energia')\n",
    "plt.xlabel('Mês')\n",
    "plt.ylabel('Consumo Máximo Médio (KWh)')\n",
    "plt.show()"
   ]
  },
  {
   "cell_type": "markdown",
   "metadata": {},
   "source": [
    "Ficou decidido que seriam definidos como meses de verão entre maio e setembro"
   ]
  },
  {
   "cell_type": "code",
   "execution_count": 34,
   "metadata": {},
   "outputs": [
    {
     "name": "stdout",
     "output_type": "stream",
     "text": [
      "+------------+----------+-------------+-----------+----------+------------+----------+----------+----------+--------+------------+--------+---------+----------+----------------+-----------------+---------+\n",
      "|household_id|      date|energy_median|energy_mean|energy_max|energy_count|energy_std|energy_sum|energy_min|tax_type|acorn_groups|  status|date_YEAR|date_MONTH|date_DAY_OF_WEEK|date_WEEK_OF_YEAR|is_summer|\n",
      "+------------+----------+-------------+-----------+----------+------------+----------+----------+----------+--------+------------+--------+---------+----------+----------------+-----------------+---------+\n",
      "|   MAC000131|2011-12-15|        0.485|      0.432|     0.868|        22.0|     0.239|     9.505|     0.072|     Std|     ACORN-E|Affluent|     2011|        12|               5|               50|        0|\n",
      "|   MAC000131|2011-12-16|        0.141|      0.296|     1.116|        48.0|     0.281|    14.216|     0.031|     Std|     ACORN-E|Affluent|     2011|        12|               6|               50|        0|\n",
      "|   MAC000131|2011-12-17|        0.101|       0.19|     0.685|        48.0|     0.188|     9.111|     0.064|     Std|     ACORN-E|Affluent|     2011|        12|               7|               50|        0|\n",
      "|   MAC000131|2011-12-18|        0.114|      0.219|     0.676|        48.0|     0.203|    10.511|     0.065|     Std|     ACORN-E|Affluent|     2011|        12|               1|               50|        0|\n",
      "|   MAC000131|2011-12-19|        0.191|      0.326|     0.788|        48.0|     0.259|    15.647|     0.066|     Std|     ACORN-E|Affluent|     2011|        12|               2|               51|        0|\n",
      "+------------+----------+-------------+-----------+----------+------------+----------+----------+----------+--------+------------+--------+---------+----------+----------------+-----------------+---------+\n",
      "only showing top 5 rows\n",
      "\n"
     ]
    }
   ],
   "source": [
    "dummie_df = dummie_df.withColumn(\"is_summer\", when(col(\"date_MONTH\").isin([5, 6, 7, 8, 9]), 1).otherwise(0)) \n",
    "dummie_df.show(5)"
   ]
  },
  {
   "cell_type": "markdown",
   "metadata": {},
   "source": [
    "##### Criar uma coluna dummie para indicar se é fim de semana, para eliminar essas linhas"
   ]
  },
  {
   "cell_type": "code",
   "execution_count": 35,
   "metadata": {},
   "outputs": [],
   "source": [
    "dummie_df = dummie_df.withColumn(\"is_weekend\", when(col(\"date_DAY_OF_WEEK\").isin([1, 7]), 1).otherwise(0)) \n",
    "\n",
    "#Eliminar as linhas identificadas como fim de semana\n",
    "dummie_df = dummie_df.filter(col(\"is_weekend\")==0)\n",
    "\n",
    "#Eliminar a coluna após a filtragem\n",
    "dummie_df = dummie_df.drop('is_weekend')"
   ]
  },
  {
   "cell_type": "markdown",
   "metadata": {},
   "source": [
    "#### Eliminar os feriados da base de dados"
   ]
  },
  {
   "cell_type": "code",
   "execution_count": 36,
   "metadata": {},
   "outputs": [
    {
     "name": "stdout",
     "output_type": "stream",
     "text": [
      "+-------------+--------------------+\n",
      "|Bank holidays|                Type|\n",
      "+-------------+--------------------+\n",
      "|   2012-12-26|          Boxing Day|\n",
      "|   2012-12-25|       Christmas Day|\n",
      "|   2012-08-27| Summer bank holiday|\n",
      "|   2012-05-06|Queen?s Diamond J...|\n",
      "|   2012-04-06|Spring bank holid...|\n",
      "+-------------+--------------------+\n",
      "only showing top 5 rows\n",
      "\n"
     ]
    }
   ],
   "source": [
    "# Importar a base de dados com os feriados\n",
    "df_feriados = spark.read.options(header='True', inferSchema='True').csv(diretorio + \"*uk_bank_holidays\" + \"*.csv\")\n",
    "df_feriados.show(5)"
   ]
  },
  {
   "cell_type": "code",
   "execution_count": 37,
   "metadata": {},
   "outputs": [
    {
     "name": "stdout",
     "output_type": "stream",
     "text": [
      "+--------------------+\n",
      "|                Type|\n",
      "+--------------------+\n",
      "|          Boxing Day|\n",
      "| Summer bank holiday|\n",
      "|Queen?s Diamond J...|\n",
      "|       Christmas Day|\n",
      "|         Good Friday|\n",
      "|Spring bank holid...|\n",
      "|New Year?s Day (s...|\n",
      "|       Easter Monday|\n",
      "|Early May bank ho...|\n",
      "|      New Year?s Day|\n",
      "| Spring bank holiday|\n",
      "+--------------------+\n",
      "\n"
     ]
    }
   ],
   "source": [
    "df_feriados.select('Type').distinct().show()"
   ]
  },
  {
   "cell_type": "code",
   "execution_count": 38,
   "metadata": {},
   "outputs": [
    {
     "name": "stdout",
     "output_type": "stream",
     "text": [
      "+------------+----------+-------------+-----------+----------+------------+----------+----------+----------+--------+------------+--------+---------+----------+----------------+-----------------+---------+-------+\n",
      "|household_id|      date|energy_median|energy_mean|energy_max|energy_count|energy_std|energy_sum|energy_min|tax_type|acorn_groups|  status|date_YEAR|date_MONTH|date_DAY_OF_WEEK|date_WEEK_OF_YEAR|is_summer|Holiday|\n",
      "+------------+----------+-------------+-----------+----------+------------+----------+----------+----------+--------+------------+--------+---------+----------+----------------+-----------------+---------+-------+\n",
      "|   MAC000131|2011-12-15|        0.485|      0.432|     0.868|        22.0|     0.239|     9.505|     0.072|     Std|     ACORN-E|Affluent|     2011|        12|               5|               50|        0|   NULL|\n",
      "|   MAC000131|2011-12-16|        0.141|      0.296|     1.116|        48.0|     0.281|    14.216|     0.031|     Std|     ACORN-E|Affluent|     2011|        12|               6|               50|        0|   NULL|\n",
      "|   MAC000131|2011-12-19|        0.191|      0.326|     0.788|        48.0|     0.259|    15.647|     0.066|     Std|     ACORN-E|Affluent|     2011|        12|               2|               51|        0|   NULL|\n",
      "+------------+----------+-------------+-----------+----------+------------+----------+----------+----------+--------+------------+--------+---------+----------+----------------+-----------------+---------+-------+\n",
      "only showing top 3 rows\n",
      "\n"
     ]
    }
   ],
   "source": [
    "## Juntar os dois datasets para remover as leituras de feriados\n",
    "leituras_e_feriados = dummie_df.join(df_feriados, dummie_df[\"date\"] == df_feriados[\"Bank holidays\"], \"left\")\n",
    "\n",
    "# Retirar a coluna 'Bank Holidays'\n",
    "leituras_e_feriados = leituras_e_feriados.drop('Bank holidays')\n",
    "\n",
    "# Mudar o nome da variável 'Type' para 'Holiday'\n",
    "leituras_e_feriados = leituras_e_feriados.withColumnRenamed('Type', 'Holiday')\n",
    "leituras_e_feriados.show(3)"
   ]
  },
  {
   "cell_type": "code",
   "execution_count": 39,
   "metadata": {},
   "outputs": [
    {
     "name": "stdout",
     "output_type": "stream",
     "text": [
      "+--------------------+\n",
      "|             Holiday|\n",
      "+--------------------+\n",
      "| Summer bank holiday|\n",
      "|          Boxing Day|\n",
      "|         Good Friday|\n",
      "|       Christmas Day|\n",
      "|New Year?s Day (s...|\n",
      "|Spring bank holid...|\n",
      "|       Easter Monday|\n",
      "|Early May bank ho...|\n",
      "|      New Year?s Day|\n",
      "| Spring bank holiday|\n",
      "|                NULL|\n",
      "+--------------------+\n",
      "\n"
     ]
    }
   ],
   "source": [
    "leituras_e_feriados.select('Holiday').distinct().show()"
   ]
  },
  {
   "cell_type": "code",
   "execution_count": 40,
   "metadata": {},
   "outputs": [
    {
     "name": "stdout",
     "output_type": "stream",
     "text": [
      "2501525\n",
      "2423320\n",
      "Ocorreu uma diminuição de  78205 o que representa uma diferença de  -3.126292961293611 %\n"
     ]
    }
   ],
   "source": [
    "## Seleção apenas das linhas que não são feriados\n",
    "leituras_sem_feriados = leituras_e_feriados.filter(col(\"Holiday\").isNull())\n",
    "\n",
    "count_antes = leituras_e_feriados.count()\n",
    "count_depois = leituras_sem_feriados.count()\n",
    "print(count_antes)\n",
    "print(count_depois)\n",
    "print(f\"Ocorreu uma diminuição de \", count_antes-count_depois, \"o que representa uma diferença de \", ((count_depois-count_antes)/count_antes)*100, '%')"
   ]
  },
  {
   "cell_type": "code",
   "execution_count": 41,
   "metadata": {},
   "outputs": [
    {
     "name": "stdout",
     "output_type": "stream",
     "text": [
      "+------------+----------+-------------+-----------+----------+------------+----------+----------+----------+--------+------------+--------+---------+----------+----------------+-----------------+---------+\n",
      "|household_id|      date|energy_median|energy_mean|energy_max|energy_count|energy_std|energy_sum|energy_min|tax_type|acorn_groups|  status|date_YEAR|date_MONTH|date_DAY_OF_WEEK|date_WEEK_OF_YEAR|is_summer|\n",
      "+------------+----------+-------------+-----------+----------+------------+----------+----------+----------+--------+------------+--------+---------+----------+----------------+-----------------+---------+\n",
      "|   MAC000131|2011-12-15|        0.485|      0.432|     0.868|        22.0|     0.239|     9.505|     0.072|     Std|     ACORN-E|Affluent|     2011|        12|               5|               50|        0|\n",
      "|   MAC000131|2011-12-16|        0.141|      0.296|     1.116|        48.0|     0.281|    14.216|     0.031|     Std|     ACORN-E|Affluent|     2011|        12|               6|               50|        0|\n",
      "|   MAC000131|2011-12-19|        0.191|      0.326|     0.788|        48.0|     0.259|    15.647|     0.066|     Std|     ACORN-E|Affluent|     2011|        12|               2|               51|        0|\n",
      "+------------+----------+-------------+-----------+----------+------------+----------+----------+----------+--------+------------+--------+---------+----------+----------------+-----------------+---------+\n",
      "only showing top 3 rows\n",
      "\n"
     ]
    }
   ],
   "source": [
    "# Eliminar a coluna 'Holiday'\n",
    "leituras_sem_feriados = leituras_sem_feriados.drop('Holiday')\n",
    "leituras_sem_feriados.show(3)"
   ]
  },
  {
   "cell_type": "markdown",
   "metadata": {},
   "source": [
    "#### Guardar o ficheiro localmente em parquet"
   ]
  },
  {
   "cell_type": "code",
   "execution_count": 42,
   "metadata": {},
   "outputs": [
    {
     "name": "stdout",
     "output_type": "stream",
     "text": [
      "+------------+----------+-------------+-----------+----------+------------+----------+----------+----------+--------+------------+-----------+---------+----------+----------------+-----------------+---------+\n",
      "|household_id|date      |energy_median|energy_mean|energy_max|energy_count|energy_std|energy_sum|energy_min|tax_type|acorn_groups|status     |date_YEAR|date_MONTH|date_DAY_OF_WEEK|date_WEEK_OF_YEAR|is_summer|\n",
      "+------------+----------+-------------+-----------+----------+------------+----------+----------+----------+--------+------------+-----------+---------+----------+----------------+-----------------+---------+\n",
      "|MAC000965   |2013-09-25|0.097        |0.171      |1.251     |48.0        |0.219     |8.227     |0.044     |ToU     |ACORN-H     |Comfortable|2013     |9         |4               |39               |1        |\n",
      "|MAC000019   |2012-08-14|0.079        |0.093      |0.578     |48.0        |0.078     |4.462     |0.025     |Std     |ACORN-K     |Adversity  |2012     |8         |3               |33               |1        |\n",
      "|MAC001011   |2012-07-20|0.119        |0.124      |0.266     |48.0        |0.039     |5.952     |0.077     |Std     |ACORN-E     |Affluent   |2012     |7         |6               |29               |1        |\n",
      "|MAC004610   |2013-01-17|0.133        |0.175      |0.632     |48.0        |0.146     |8.386     |0.024     |ToU     |ACORN-E     |Affluent   |2013     |1         |5               |3                |0        |\n",
      "|MAC002188   |2013-06-27|0.079        |0.112      |0.746     |48.0        |0.113     |5.393     |0.051     |ToU     |ACORN-H     |Comfortable|2013     |6         |5               |26               |1        |\n",
      "|MAC000123   |2012-11-07|0.159        |0.172      |0.417     |48.0        |0.082     |8.245     |0.052     |Std     |ACORN-K     |Adversity  |2012     |11        |4               |45               |0        |\n",
      "|MAC002500   |2013-11-19|0.111        |0.203      |0.769     |48.0        |0.195     |9.728     |0.008     |Std     |ACORN-F     |Comfortable|2013     |11        |3               |47               |0        |\n",
      "|MAC002940   |2013-10-22|0.029        |0.046      |0.259     |48.0        |0.056     |2.202     |0.008     |Std     |ACORN-P     |Adversity  |2013     |10        |3               |43               |0        |\n",
      "|MAC000281   |2013-10-30|0.124        |0.174      |0.857     |48.0        |0.176     |8.347     |0.035     |Std     |ACORN-K     |Adversity  |2013     |10        |4               |44               |0        |\n",
      "|MAC003177   |2013-03-13|0.159        |0.254      |2.035     |48.0        |0.362     |12.192    |0.04      |Std     |ACORN-N     |Adversity  |2013     |3         |4               |11               |0        |\n",
      "|MAC005451   |2013-03-04|0.405        |0.411      |1.305     |48.0        |0.249     |19.722    |0.099     |Std     |ACORN-F     |Comfortable|2013     |3         |2               |10               |0        |\n",
      "|MAC004571   |2014-02-20|0.108        |0.353      |3.05      |48.0        |0.62      |16.922    |0.046     |Std     |ACORN-E     |Affluent   |2014     |2         |5               |8                |0        |\n",
      "|MAC000968   |2013-01-21|0.128        |0.2        |0.905     |48.0        |0.177     |9.6       |0.081     |Std     |ACORN-E     |Affluent   |2013     |1         |2               |4                |0        |\n",
      "|MAC003616   |2012-12-24|0.07         |0.067      |0.194     |48.0        |0.037     |3.236     |0.021     |Std     |ACORN-P     |Adversity  |2012     |12        |2               |52               |0        |\n",
      "|MAC000221   |2013-07-18|0.09         |0.109      |0.373     |48.0        |0.08      |5.24      |0.034     |Std     |ACORN-E     |Affluent   |2013     |7         |5               |29               |1        |\n",
      "|MAC005388   |2012-05-22|0.068        |0.312      |0.967     |48.0        |0.373     |14.975    |0.0       |Std     |ACORN-P     |Adversity  |2012     |5         |3               |21               |1        |\n",
      "|MAC001022   |2013-04-19|0.045        |0.054      |0.161     |48.0        |0.033     |2.616     |0.019     |Std     |ACORN-E     |Affluent   |2013     |4         |6               |16               |0        |\n",
      "|MAC000221   |2012-03-27|0.127        |0.224      |0.863     |48.0        |0.212     |10.754    |0.041     |Std     |ACORN-E     |Affluent   |2012     |3         |3               |13               |0        |\n",
      "|MAC005229   |2012-12-21|0.034        |0.083      |0.32      |48.0        |0.086     |3.992     |0.017     |Std     |ACORN-H     |Comfortable|2012     |12        |6               |51               |0        |\n",
      "|MAC004929   |2013-10-25|0.22         |0.328      |0.987     |48.0        |0.272     |15.722    |0.057     |Std     |ACORN-H     |Comfortable|2013     |10        |6               |43               |0        |\n",
      "+------------+----------+-------------+-----------+----------+------------+----------+----------+----------+--------+------------+-----------+---------+----------+----------------+-----------------+---------+\n",
      "only showing top 20 rows\n",
      "\n"
     ]
    }
   ],
   "source": [
    "# Criação de partições para aumentar o paralelismo\n",
    "energy_households = leituras_sem_feriados.repartition(200)\n",
    "energy_households.show(truncate= False)"
   ]
  },
  {
   "cell_type": "code",
   "execution_count": 43,
   "metadata": {},
   "outputs": [],
   "source": [
    "# Salvar a base de dados em parquet\n",
    "path = '../Datasets/energy_households_parquet.parquet'\n",
    "energy_households.write.mode(\"overwrite\").parquet(path)"
   ]
  }
 ],
 "metadata": {
  "kernelspec": {
   "display_name": "vscode_pyspark",
   "language": "python",
   "name": "vscode_pyspark"
  },
  "language_info": {
   "codemirror_mode": {
    "name": "ipython",
    "version": 3
   },
   "file_extension": ".py",
   "mimetype": "text/x-python",
   "name": "python",
   "nbconvert_exporter": "python",
   "pygments_lexer": "ipython3",
   "version": "3.11.8"
  }
 },
 "nbformat": 4,
 "nbformat_minor": 2
}
